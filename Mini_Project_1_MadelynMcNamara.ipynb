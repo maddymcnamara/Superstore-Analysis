{
 "cells": [
  {
   "cell_type": "markdown",
   "metadata": {},
   "source": [
    "Superstore Analysis\n"
   ]
  },
  {
   "cell_type": "markdown",
   "metadata": {},
   "source": [
    "# 📊 STAT207 Mini-Project #1 – Superstore Sales Analysis  \n",
    "\n",
    "**Author:** Madelyn McNamara  \n",
    "\n",
    "---\n",
    "\n",
    "## 1. Introduction\n",
    "For this project, I analyzed the **Superstore dataset**, a popular dataset containing thousands of retail transactions. My primary research question was:  \n",
    "\n",
    "> **How do product categories and profitability influence sales patterns over time?**  \n",
    "\n",
    "To answer this, I focused on exploring how **sales** relate to both **numerical variables** (profit, date features) and **categorical variables** (segment, category, sub-category, region). By combining statistical analysis and visualization, I identified the variables with the strongest impact on sales and evaluated how they interact.  \n",
    "\n",
    "This type of analysis is highly relevant in business analytics, as it can guide **pricing strategies, category management, and profitability optimization**.  \n",
    "\n",
    "---\n",
    "\n",
    "## 2. Dataset Overview\n",
    "- **Source:** [Kaggle – Superstore Dataset](https://www.kaggle.com/datasets/vivek468/superstore-dataset-final)  \n",
    "- **Shape:** 9,994 rows × 21 columns  \n",
    "- **Granularity:** Each row represents a single customer order.  \n",
    "\n",
    "### Key Variables\n",
    "- **Numerical:** Sales, Profit, Discount, Quantity  \n",
    "- **Categorical:** Segment, Category, Sub-Category, Region  \n",
    "- **Date-related:** Order Date, Ship Date  \n",
    "\n"
   ]
  },
  {
   "cell_type": "code",
   "execution_count": 31,
   "metadata": {},
   "outputs": [],
   "source": [
    "import pandas as pd\n",
    "import numpy as np\n",
    "import seaborn as sns\n",
    "import matplotlib.pyplot as plt\n",
    "import os\n",
    "\n",
    "os.makedirs(\"plots\", exist_ok=True)\n"
   ]
  },
  {
   "cell_type": "code",
   "execution_count": 32,
   "metadata": {},
   "outputs": [
    {
     "data": {
      "text/html": [
       "<div>\n",
       "<style scoped>\n",
       "    .dataframe tbody tr th:only-of-type {\n",
       "        vertical-align: middle;\n",
       "    }\n",
       "\n",
       "    .dataframe tbody tr th {\n",
       "        vertical-align: top;\n",
       "    }\n",
       "\n",
       "    .dataframe thead th {\n",
       "        text-align: right;\n",
       "    }\n",
       "</style>\n",
       "<table border=\"1\" class=\"dataframe\">\n",
       "  <thead>\n",
       "    <tr style=\"text-align: right;\">\n",
       "      <th></th>\n",
       "      <th>Row ID</th>\n",
       "      <th>Order ID</th>\n",
       "      <th>Order Date</th>\n",
       "      <th>Ship Date</th>\n",
       "      <th>Ship Mode</th>\n",
       "      <th>Customer ID</th>\n",
       "      <th>Customer Name</th>\n",
       "      <th>Segment</th>\n",
       "      <th>Country</th>\n",
       "      <th>City</th>\n",
       "      <th>...</th>\n",
       "      <th>Postal Code</th>\n",
       "      <th>Region</th>\n",
       "      <th>Product ID</th>\n",
       "      <th>Category</th>\n",
       "      <th>Sub-Category</th>\n",
       "      <th>Product Name</th>\n",
       "      <th>Sales</th>\n",
       "      <th>Quantity</th>\n",
       "      <th>Discount</th>\n",
       "      <th>Profit</th>\n",
       "    </tr>\n",
       "  </thead>\n",
       "  <tbody>\n",
       "    <tr>\n",
       "      <th>0</th>\n",
       "      <td>1</td>\n",
       "      <td>CA-2013-152156</td>\n",
       "      <td>09-11-2013</td>\n",
       "      <td>12-11-2013</td>\n",
       "      <td>Second Class</td>\n",
       "      <td>CG-12520</td>\n",
       "      <td>Claire Gute</td>\n",
       "      <td>Consumer</td>\n",
       "      <td>United States</td>\n",
       "      <td>Henderson</td>\n",
       "      <td>...</td>\n",
       "      <td>42420</td>\n",
       "      <td>South</td>\n",
       "      <td>FUR-BO-10001798</td>\n",
       "      <td>Furniture</td>\n",
       "      <td>Bookcases</td>\n",
       "      <td>Bush Somerset Collection Bookcase</td>\n",
       "      <td>262.0</td>\n",
       "      <td>2</td>\n",
       "      <td>0.0</td>\n",
       "      <td>41.9</td>\n",
       "    </tr>\n",
       "    <tr>\n",
       "      <th>1</th>\n",
       "      <td>2</td>\n",
       "      <td>CA-2013-152156</td>\n",
       "      <td>09-11-2013</td>\n",
       "      <td>12-11-2013</td>\n",
       "      <td>Second Class</td>\n",
       "      <td>CG-12520</td>\n",
       "      <td>Claire Gute</td>\n",
       "      <td>Consumer</td>\n",
       "      <td>United States</td>\n",
       "      <td>Henderson</td>\n",
       "      <td>...</td>\n",
       "      <td>42420</td>\n",
       "      <td>South</td>\n",
       "      <td>FUR-CH-10000454</td>\n",
       "      <td>Furniture</td>\n",
       "      <td>Chairs</td>\n",
       "      <td>Hon Deluxe Fabric Upholstered Stacking Chairs,...</td>\n",
       "      <td>731.9</td>\n",
       "      <td>3</td>\n",
       "      <td>0.0</td>\n",
       "      <td>219.6</td>\n",
       "    </tr>\n",
       "    <tr>\n",
       "      <th>2</th>\n",
       "      <td>3</td>\n",
       "      <td>CA-2013-138688</td>\n",
       "      <td>13-06-2013</td>\n",
       "      <td>17-06-2013</td>\n",
       "      <td>Second Class</td>\n",
       "      <td>DV-13045</td>\n",
       "      <td>Darrin Van Huff</td>\n",
       "      <td>Corporate</td>\n",
       "      <td>United States</td>\n",
       "      <td>Los Angeles</td>\n",
       "      <td>...</td>\n",
       "      <td>90036</td>\n",
       "      <td>West</td>\n",
       "      <td>OFF-LA-10000240</td>\n",
       "      <td>Office Supplies</td>\n",
       "      <td>Labels</td>\n",
       "      <td>Self-Adhesive Address Labels for Typewriters b...</td>\n",
       "      <td>14.6</td>\n",
       "      <td>2</td>\n",
       "      <td>0.0</td>\n",
       "      <td>6.9</td>\n",
       "    </tr>\n",
       "    <tr>\n",
       "      <th>3</th>\n",
       "      <td>4</td>\n",
       "      <td>US-2012-108966</td>\n",
       "      <td>11-10-2012</td>\n",
       "      <td>18-10-2012</td>\n",
       "      <td>Standard Class</td>\n",
       "      <td>SO-20335</td>\n",
       "      <td>Sean O'Donnell</td>\n",
       "      <td>Consumer</td>\n",
       "      <td>United States</td>\n",
       "      <td>Fort Lauderdale</td>\n",
       "      <td>...</td>\n",
       "      <td>33311</td>\n",
       "      <td>South</td>\n",
       "      <td>FUR-TA-10000577</td>\n",
       "      <td>Furniture</td>\n",
       "      <td>Tables</td>\n",
       "      <td>Bretford CR4500 Series Slim Rectangular Table</td>\n",
       "      <td>957.6</td>\n",
       "      <td>5</td>\n",
       "      <td>0.4</td>\n",
       "      <td>-383.0</td>\n",
       "    </tr>\n",
       "    <tr>\n",
       "      <th>4</th>\n",
       "      <td>5</td>\n",
       "      <td>US-2012-108966</td>\n",
       "      <td>11-10-2012</td>\n",
       "      <td>18-10-2012</td>\n",
       "      <td>Standard Class</td>\n",
       "      <td>SO-20335</td>\n",
       "      <td>Sean O'Donnell</td>\n",
       "      <td>Consumer</td>\n",
       "      <td>United States</td>\n",
       "      <td>Fort Lauderdale</td>\n",
       "      <td>...</td>\n",
       "      <td>33311</td>\n",
       "      <td>South</td>\n",
       "      <td>OFF-ST-10000760</td>\n",
       "      <td>Office Supplies</td>\n",
       "      <td>Storage</td>\n",
       "      <td>Eldon Fold 'N Roll Cart System</td>\n",
       "      <td>22.4</td>\n",
       "      <td>2</td>\n",
       "      <td>0.2</td>\n",
       "      <td>2.5</td>\n",
       "    </tr>\n",
       "  </tbody>\n",
       "</table>\n",
       "<p>5 rows × 21 columns</p>\n",
       "</div>"
      ],
      "text/plain": [
       "   Row ID        Order ID  Order Date   Ship Date       Ship Mode Customer ID  \\\n",
       "0       1  CA-2013-152156  09-11-2013  12-11-2013    Second Class    CG-12520   \n",
       "1       2  CA-2013-152156  09-11-2013  12-11-2013    Second Class    CG-12520   \n",
       "2       3  CA-2013-138688  13-06-2013  17-06-2013    Second Class    DV-13045   \n",
       "3       4  US-2012-108966  11-10-2012  18-10-2012  Standard Class    SO-20335   \n",
       "4       5  US-2012-108966  11-10-2012  18-10-2012  Standard Class    SO-20335   \n",
       "\n",
       "     Customer Name    Segment        Country             City  ...  \\\n",
       "0      Claire Gute   Consumer  United States        Henderson  ...   \n",
       "1      Claire Gute   Consumer  United States        Henderson  ...   \n",
       "2  Darrin Van Huff  Corporate  United States      Los Angeles  ...   \n",
       "3   Sean O'Donnell   Consumer  United States  Fort Lauderdale  ...   \n",
       "4   Sean O'Donnell   Consumer  United States  Fort Lauderdale  ...   \n",
       "\n",
       "  Postal Code  Region       Product ID         Category Sub-Category  \\\n",
       "0       42420   South  FUR-BO-10001798        Furniture    Bookcases   \n",
       "1       42420   South  FUR-CH-10000454        Furniture       Chairs   \n",
       "2       90036    West  OFF-LA-10000240  Office Supplies       Labels   \n",
       "3       33311   South  FUR-TA-10000577        Furniture       Tables   \n",
       "4       33311   South  OFF-ST-10000760  Office Supplies      Storage   \n",
       "\n",
       "                                        Product Name  Sales  Quantity  \\\n",
       "0                  Bush Somerset Collection Bookcase  262.0         2   \n",
       "1  Hon Deluxe Fabric Upholstered Stacking Chairs,...  731.9         3   \n",
       "2  Self-Adhesive Address Labels for Typewriters b...   14.6         2   \n",
       "3      Bretford CR4500 Series Slim Rectangular Table  957.6         5   \n",
       "4                     Eldon Fold 'N Roll Cart System   22.4         2   \n",
       "\n",
       "   Discount  Profit  \n",
       "0       0.0    41.9  \n",
       "1       0.0   219.6  \n",
       "2       0.0     6.9  \n",
       "3       0.4  -383.0  \n",
       "4       0.2     2.5  \n",
       "\n",
       "[5 rows x 21 columns]"
      ]
     },
     "execution_count": 32,
     "metadata": {},
     "output_type": "execute_result"
    }
   ],
   "source": [
    "data = pd.read_csv(\"Superstore.csv\", encoding='latin-1').round(1)\n",
    "data.head()\n"
   ]
  },
  {
   "cell_type": "code",
   "execution_count": 33,
   "metadata": {},
   "outputs": [
    {
     "data": {
      "text/plain": [
       "9994"
      ]
     },
     "execution_count": 33,
     "metadata": {},
     "output_type": "execute_result"
    }
   ],
   "source": [
    "len(data)"
   ]
  },
  {
   "cell_type": "markdown",
   "metadata": {},
   "source": [
    "## 3. Data Cleaning\n",
    "\n",
    "To prepare the dataset for analysis, I:\n",
    "\n",
    "1. Converted Order Date and Ship Date to datetime format\n",
    "\n",
    "2. Extracted Year and Month values\n",
    "\n",
    "3. Removed outliers using the Interquartile Range (IQR) method\n",
    "\n",
    "4. Filtered extreme values to keep Sales ≤ 300 and Profit between -25 and 45"
   ]
  },
  {
   "cell_type": "code",
   "execution_count": 34,
   "metadata": {},
   "outputs": [
    {
     "data": {
      "text/plain": [
       "(6967, 6)"
      ]
     },
     "execution_count": 34,
     "metadata": {},
     "output_type": "execute_result"
    }
   ],
   "source": [
    "# Convert dates\n",
    "data['Order Date'] = pd.to_datetime(data['Order Date'], format='%d-%m-%Y')\n",
    "data['Ship Date'] = pd.to_datetime(data['Ship Date'], format='%d-%m-%Y')\n",
    "\n",
    "# Add new features\n",
    "data['Year'] = data['Order Date'].dt.year\n",
    "data['Month_Num'] = data['Order Date'].dt.month\n",
    "data['Month'] = data['Order Date'].dt.strftime('%b')\n",
    "\n",
    "# Keep only relevant columns\n",
    "df = data[['Order Date','Sales','Profit','Year','Month_Num','Month']]\n",
    "\n",
    "# Remove outliers with IQR\n",
    "Q1, Q3 = df['Sales'].quantile([0.25, 0.75])\n",
    "IQR = Q3 - Q1\n",
    "lower, upper = Q1 - 1.5*IQR, Q3 + 1.5*IQR\n",
    "df = df[(df['Sales'] >= lower) & (df['Sales'] <= upper)]\n",
    "\n",
    "Q1, Q3 = df['Profit'].quantile([0.25, 0.75])\n",
    "IQR = Q3 - Q1\n",
    "lower, upper = Q1 - 1.5*IQR, Q3 + 1.5*IQR\n",
    "df = df[(df['Profit'] >= lower) & (df['Profit'] <= upper)]\n",
    "\n",
    "\n",
    "df = df[(df['Sales'] <= 300) & (df['Profit'].between(-25, 45))]\n",
    "df.shape\n"
   ]
  },
  {
   "cell_type": "markdown",
   "metadata": {},
   "source": [
    "## 4. Exploratory Data Analysis (EDA)\n"
   ]
  },
  {
   "cell_type": "markdown",
   "metadata": {},
   "source": [
    "### 4.1 Distribution of Sales and Profit"
   ]
  },
  {
   "cell_type": "code",
   "execution_count": 35,
   "metadata": {},
   "outputs": [],
   "source": [
    "import seaborn as sns\n",
    "import matplotlib.pyplot as plt\n",
    "import os\n",
    "\n",
    "os.makedirs(\"plots\", exist_ok=True)\n",
    "\n",
    "sns.boxplot(data=df, x=\"Sales\")\n",
    "plt.title(\"Sales Distribution (Cleaned)\")\n",
    "plt.savefig(\"plots/sales_distribution.png\")\n",
    "plt.close()\n",
    "\n",
    "sns.boxplot(data=df, x=\"Profit\")\n",
    "plt.title(\"Profit Distribution (Cleaned)\")\n",
    "plt.savefig(\"plots/profit_distribution.png\")\n",
    "plt.close()\n"
   ]
  },
  {
   "cell_type": "markdown",
   "metadata": {},
   "source": [
    "Observation:\n",
    "\n",
    "Both Sales and Profit are right-skewed.\n",
    "\n",
    "Outlier removal reduced extreme spikes while keeping meaningful variation."
   ]
  },
  {
   "cell_type": "markdown",
   "metadata": {},
   "source": [
    "### 4.2 Correlation Between Sales and Profit"
   ]
  },
  {
   "cell_type": "code",
   "execution_count": 36,
   "metadata": {},
   "outputs": [],
   "source": [
    "sns.lmplot(x=\"Sales\", y=\"Profit\", data=df, ci=False)\n",
    "plt.title(\"Relationship Between Sales and Profit\")\n",
    "plt.savefig(\"plots/sales_vs_profit.png\")\n",
    "plt.close()"
   ]
  },
  {
   "cell_type": "markdown",
   "metadata": {},
   "source": [
    "#### Observation:\n",
    "\n",
    "Profit has a moderate positive correlation with Sales (r ≈ 0.39).\n",
    "\n",
    "Higher sales generally lead to higher profit, but not always — suggesting discounts or cost variation."
   ]
  },
  {
   "cell_type": "markdown",
   "metadata": {},
   "source": [
    "### 4.3 Sales by Category"
   ]
  },
  {
   "cell_type": "code",
   "execution_count": 37,
   "metadata": {},
   "outputs": [],
   "source": [
    "sns.boxplot(x=\"Category\", y=\"Sales\", data=data)\n",
    "plt.title(\"Sales Distribution by Product Category\")\n",
    "plt.savefig(\"plots/sales_by_category.png\")\n",
    "plt.close()\n"
   ]
  },
  {
   "cell_type": "markdown",
   "metadata": {},
   "source": [
    "#### Observation:\n",
    "\n",
    "Technology products show the highest median sales.\n",
    "\n",
    "Office Supplies typically produce smaller order amounts."
   ]
  },
  {
   "cell_type": "code",
   "execution_count": 38,
   "metadata": {},
   "outputs": [],
   "source": [
    "monthly_sales = df.groupby(['Year','Month_Num'])['Sales'].sum().reset_index()\n",
    "monthly_sales['Date'] = pd.to_datetime(dict(year=monthly_sales.Year, month=monthly_sales.Month_Num, day=1))\n",
    "\n",
    "plt.plot(monthly_sales['Date'], monthly_sales['Sales'])\n",
    "plt.title(\"Monthly Sales Trend\")\n",
    "plt.xlabel(\"Date\")\n",
    "plt.ylabel(\"Sales\")\n",
    "plt.savefig(\"plots/sales_trend.png\")\n",
    "plt.close()\n"
   ]
  },
  {
   "cell_type": "markdown",
   "metadata": {},
   "source": [
    "#### Observation:\n",
    "\n",
    "Sales show seasonal peaks, especially at the end of the year (holiday effect)."
   ]
  },
  {
   "cell_type": "markdown",
   "metadata": {},
   "source": [
    "### 4.5 Interaction Effects\n"
   ]
  },
  {
   "cell_type": "markdown",
   "metadata": {},
   "source": [
    "#### Category x Month"
   ]
  },
  {
   "cell_type": "code",
   "execution_count": 39,
   "metadata": {},
   "outputs": [],
   "source": [
    "sns.lmplot(x='Month_Num', y='Sales', hue='Category', data=data, ci=False)\n",
    "plt.title(\"Sales Across Months by Category\")\n",
    "plt.savefig(\"plots/sales_by_month_category.png\")\n",
    "plt.close()\n"
   ]
  },
  {
   "cell_type": "markdown",
   "metadata": {},
   "source": [
    "#### Observation:\n",
    "\n",
    "Sales trends vary by category.\n",
    "\n",
    "Technology sales peak in later months, while Furniture and Office Supplies remain more stable."
   ]
  },
  {
   "cell_type": "markdown",
   "metadata": {},
   "source": [
    "#### Profit x Region"
   ]
  },
  {
   "cell_type": "code",
   "execution_count": 40,
   "metadata": {},
   "outputs": [],
   "source": [
    "sns.lmplot(x='Profit', y='Sales', hue='Region', data=data, ci=False)\n",
    "plt.title(\"Profit vs Sales by Region\")\n",
    "plt.savefig(\"plots/sales_profit_region.png\")\n",
    "plt.close()\n"
   ]
  },
  {
   "cell_type": "markdown",
   "metadata": {},
   "source": [
    "#### Observation:\n",
    "\n",
    "Different regions show slightly different relationships between Profit and Sales.\n",
    "\n",
    "Suggests regional cost/pricing differences."
   ]
  },
  {
   "cell_type": "markdown",
   "metadata": {},
   "source": [
    "## 5. Statistical Modeling\n",
    "\n",
    "I used linear regression to test predictive strength of different variable combinations:"
   ]
  },
  {
   "cell_type": "code",
   "execution_count": 41,
   "metadata": {},
   "outputs": [
    {
     "data": {
      "text/plain": [
       "np.float64(0.26867455212508806)"
      ]
     },
     "execution_count": 41,
     "metadata": {},
     "output_type": "execute_result"
    }
   ],
   "source": [
    "import statsmodels.formula.api as smf\n",
    "\n",
    "model1 = smf.ols(\"Sales ~ Profit + Category\", data=data).fit()\n",
    "model1.rsquared\n"
   ]
  },
  {
   "cell_type": "markdown",
   "metadata": {},
   "source": [
    "#### Results:\n",
    "\n",
    "Sales ~ Profit + Category → R² ≈ 0.27\n",
    "\n",
    "Sales ~ Profit + Region → R² ≈ 0.23\n",
    "\n",
    "Sales ~ Month_Num + Category → R² ≈ 0.05\n",
    "\n",
    "#### Takeaway:\n",
    "\n",
    "Profit and Category together explain sales the best.\n",
    "\n",
    "Time and region variables alone add little predictive power."
   ]
  },
  {
   "cell_type": "markdown",
   "metadata": {},
   "source": [
    "## 5. Model Improvement / Enhanced Analysis\n",
    "\n",
    "To strengthen the predictive power of the model, we included additional features and applied transformations:\n",
    "\n",
    "### 5.1 Feature Engineering\n",
    "- Added **Discount** and **Quantity** as numerical predictors.\n",
    "- Included **Sub-Category** and **Region** as categorical variables using one-hot encoding.\n",
    "- Applied a **log transformation** to Sales to reduce skewness and stabilize variance.\n"
   ]
  },
  {
   "cell_type": "code",
   "execution_count": 42,
   "metadata": {},
   "outputs": [
    {
     "name": "stdout",
     "output_type": "stream",
     "text": [
      "0.5912761073590354\n"
     ]
    }
   ],
   "source": [
    "import statsmodels.formula.api as smf\n",
    "data = data.rename(columns={\n",
    "    \"Sub-Category\": \"Sub_Category\",\n",
    "    \"Category\": \"Category\",\n",
    "    \"Region\": \"Region\"\n",
    "})\n",
    "\n",
    "data[\"Log_Sales\"] = np.log1p(data[\"Sales\"])\n",
    "\n",
    "model_enhanced = smf.ols(\n",
    "    \"Log_Sales ~ Profit + Discount + Quantity + C(Category) + C(Sub_Category) + C(Region) + Profit:C(Category)\",\n",
    "    data=data\n",
    ").fit()\n",
    "\n",
    "print(model_enhanced.rsquared)\n"
   ]
  },
  {
   "cell_type": "markdown",
   "metadata": {},
   "source": [
    "#### 5.2 Results\n",
    "\n",
    "Base model (Profit + Category): R² ≈ 0.27\n",
    "\n",
    "Enhanced model (Profit + Discount + Quantity + Category + Sub-Category + Region + interactions): R² ≈ 0.59 ✅\n",
    "\n",
    "##### Interpretation:\n",
    "\n",
    "The enhanced model explains nearly 60% of the variance in Sales, showing a much stronger relationship between the predictors and sales performance.\n",
    "\n",
    "Including additional features, interactions, and log-transformations improved the model’s predictive power substantially.\n",
    "\n",
    "#### 5.3 Insights\n",
    "\n",
    "Profit, Quantity, and Discounts strongly influence sales.\n",
    "\n",
    "Sub-Category granularity shows specific products drive most revenue.\n",
    "\n",
    "Interactions between Profit and Category reveal that high-profit items in certain categories disproportionately contribute to sales."
   ]
  },
  {
   "cell_type": "markdown",
   "metadata": {},
   "source": [
    "---\n",
    "\n",
    "## 6. Conclusion & Future Work\n",
    "\n",
    "### 6.1 Conclusion\n",
    "The analysis demonstrates that **Profit, Category, Discount, Quantity, Sub-Category, and Region** all significantly impact sales. By enhancing the model with additional features, interaction terms, and log-transformed Sales, the R² increased from ~0.27 to **~0.59**, meaning the model now explains nearly 60% of the variation in sales.  \n",
    "\n",
    "Key insights include:  \n",
    "- High-profit items in specific categories disproportionately contribute to overall sales.  \n",
    "- Discounts and quantities sold strongly influence revenue.  \n",
    "- Sub-Category granularity and regional differences reveal which product types perform best in different markets.  \n",
    "\n",
    "Overall, this model captures the complex relationships between key variables and provides a more accurate framework for understanding and predicting sales performance.\n",
    "\n",
    "### 6.2 Future Work\n",
    "There are several ways to further improve predictive accuracy and business insights:  \n",
    "\n",
    "1. **Include Temporal Features:**  \n",
    "   - Add quarterly or seasonal indicators, holidays, or rolling averages to capture trends over time.\n",
    "\n",
    "2. **Advanced Modeling Techniques:**  \n",
    "   - Explore **Random Forests, Gradient Boosting, or XGBoost** to capture nonlinear relationships.\n",
    "   - Try **regularized regression (Lasso/Ridge)** to handle correlated features and prevent overfitting.\n",
    "\n",
    "3. **Customer and Order-Level Features:**  \n",
    "   - Include customer demographics or order size to refine predictions.\n",
    "   - Analyze repeat customer behavior or loyalty effects on sales.\n",
    "\n",
    "4. **Explore Profit Optimization:**  \n",
    "   - Predict not only sales but also the **profit-to-sales ratio** for more actionable insights.\n",
    "\n",
    "By incorporating these improvements, future analyses could provide even deeper insights into sales drivers and help businesses make more informed, data-driven decisions.\n"
   ]
  },
  {
   "cell_type": "code",
   "execution_count": null,
   "metadata": {},
   "outputs": [],
   "source": []
  }
 ],
 "metadata": {
  "kernelspec": {
   "display_name": "base",
   "language": "python",
   "name": "python3"
  },
  "language_info": {
   "codemirror_mode": {
    "name": "ipython",
    "version": 3
   },
   "file_extension": ".py",
   "mimetype": "text/x-python",
   "name": "python",
   "nbconvert_exporter": "python",
   "pygments_lexer": "ipython3",
   "version": "3.13.5"
  }
 },
 "nbformat": 4,
 "nbformat_minor": 4
}
